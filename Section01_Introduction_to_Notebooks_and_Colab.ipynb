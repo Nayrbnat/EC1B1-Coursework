{
  "nbformat": 4,
  "nbformat_minor": 0,
  "metadata": {
    "colab": {
      "provenance": [],
      "include_colab_link": true
    },
    "kernelspec": {
      "name": "python3",
      "display_name": "Python 3"
    },
    "language_info": {
      "name": "python"
    }
  },
  "cells": [
    {
      "cell_type": "markdown",
      "metadata": {
        "id": "view-in-github",
        "colab_type": "text"
      },
      "source": [
        "<a href=\"https://colab.research.google.com/github/Nayrbnat/EC1B1-Coursework/blob/main/Section01_Introduction_to_Notebooks_and_Colab.ipynb\" target=\"_parent\"><img src=\"https://colab.research.google.com/assets/colab-badge.svg\" alt=\"Open In Colab\"/></a>"
      ]
    },
    {
      "cell_type": "markdown",
      "source": [
        "<a href=\"https://colab.research.google.com/drive/126i5yW0at-lnBId9dqq2CpYhAmP_IbQq\" target=\"_parent\"><img src=\"https://colab.research.google.com/assets/colab-badge.svg\" alt=\"Open In Colab\"/></a>"
      ],
      "metadata": {
        "id": "Y6VlnIQU6tJg"
      }
    },
    {
      "cell_type": "markdown",
      "source": [
        "# DataSci 112: Principles of Data Science\n",
        "## Stanford University, Summer 2024\n",
        "\n",
        "### Discussion Section #1 (June 25)"
      ],
      "metadata": {
        "id": "PF9QiYOJh5NN"
      }
    },
    {
      "cell_type": "markdown",
      "source": [
        "## Before You Do Anything Else!!!\n",
        "\n",
        "This is the Instructor's version of this notebook. To complete some assignments below you will need to modify its contents.  Any changes that you make cannot be saved and will be lost when you close the browser.\n",
        "\n",
        "If you want to save your work, **you need to save a copy of this notebook** to your personal Google Drive. To do this, go to File > Save a copy in Drive.\n",
        "\n",
        "**In fact, this should be the first thing you do whenever you open up a notebook that someone shares with you.**"
      ],
      "metadata": {
        "id": "5-ybTA6myQn7"
      }
    },
    {
      "cell_type": "markdown",
      "source": [
        "# Introduction to Notebooks and Colab\n",
        "\n",
        "In CS 106A (or any other Introduction to Computing course that used Python), you wrote Python code in an IDE such as [Pycharm](https://web.stanford.edu/class/cs106a/handouts/installingpycharm.html). You would first write a Python program in a file like `myscript.py`, then you would execute the program by typing `python3 myscript.py` at a terminal.\n",
        "\n",
        "In this class, we will write Python code in **notebooks**, like this one. Notebooks can run on your computer or in the cloud. **Colab** is a free Google service that offers cloud notebooks that are linked to your Google Drive."
      ],
      "metadata": {
        "id": "1h4kRko7W00T"
      }
    },
    {
      "cell_type": "markdown",
      "source": [
        "**Python Notebooks** consist of several types of _cells_, of which two: **text cells**, and **code cells** are the most important.\n",
        "\n",
        "**Text Cells** allow the notebook author to include any textual description as part of the notebook. The contents of these cells can contain formatting instructions that are **parsed** (processed by the software that runs the notebooks for you) and affect how the text is presented to the user.\n",
        "\n",
        "This cell is a text cell.\n",
        "\n"
      ],
      "metadata": {
        "id": "VihOJiK8icOd"
      }
    },
    {
      "cell_type": "markdown",
      "source": [
        "This is also a text cell. All text in this cell is rendered without the use of any formatting instructions."
      ],
      "metadata": {
        "id": "uhgRZGlIjadf"
      }
    },
    {
      "cell_type": "markdown",
      "source": [
        "This text cell contains some formatting instructions. They can be intruduced using the notation known as the [**Markdown** markup language](https://www.markdownguide.org/) (pun intended).  Markdown supports several types of text formatting, including **boldface**, _italics_, ~~strikethrough~~, `in-line code` style, web page links (see above),\n",
        "\n",
        "* lists\n",
        "* of\n",
        "* items,\n",
        "\n",
        "1. both, itemized (above)\n",
        "1. and enumerated\n",
        "  1. with sublists\n",
        "\n",
        "embedding images  \n",
        "![Stanford](https://www.stanford.edu/wp-content/uploads/2023/10/Hero-3-2-1536x1022.jpg \"The Oval\")\n",
        "\n",
        "\n",
        "> creating\n",
        "> blockquotes\n",
        ">> often embedded into one another\n",
        "\n",
        "\n",
        "and creating code blocks:\n",
        "\n",
        "    for i in range(10):\n",
        "       print(i)\n",
        "\n",
        "# There are\n",
        "## also\n",
        "### several\n",
        "#### different levels of headings\n"
      ],
      "metadata": {
        "id": "YRDgrj-Ojjw8"
      }
    },
    {
      "cell_type": "markdown",
      "source": [
        "## Seeing Markdown\n",
        "\n",
        "when you double-click text cell, in Google Colab you will see the raw Markdown formatting of the cell on the left, and the final look of the cell on the right.\n",
        "In Jupyter Labs (for those of you who installed Anaconda) you will simply see the raw Markdown syntax."
      ],
      "metadata": {
        "id": "hfMYzFzXpJ2f"
      }
    },
    {
      "cell_type": "markdown",
      "source": [
        "## LaTeX\n",
        "\n",
        "Both Google Colab and Jupyter Labs can parse and render another markup language, $\\LaTeX$, which allows for rendering of mathematical formulae, such as what you see below\n",
        "\n",
        "\n",
        "$$ \\hat{\\mu} = \\frac{1}{n}\\sum_{i=1}^n x_i $$\n",
        "\n",
        "or\n",
        "\n",
        "\\begin{pmatrix}\n",
        "       1& 2 & 3 \\\\\n",
        "       4 & 5 & \\sqrt{7}\n",
        "  \\end{pmatrix}\n",
        "\n",
        "(in this class, you won't be required to learn $\\LaTeX$, however we will be using it to render formulas in the notebooks shared with you whenever the need arises)\n",
        "\n"
      ],
      "metadata": {
        "id": "IqNMOzJwpp5R"
      }
    },
    {
      "cell_type": "markdown",
      "source": [
        "**Task 1.**  Create a text cell below. Use a header, and some Markdown formatting (you can use the toolbar to help you insert the formatting into the text cell) to specify your name, your _Stanford email address_, and a couple of sentences about you (where you go to school, what you are studying in college or a planning to study), and why you are taking this course."
      ],
      "metadata": {
        "id": "EMdztv7Rr5Aw"
      }
    },
    {
      "cell_type": "markdown",
      "source": [],
      "metadata": {
        "id": "7k-BrLPOGqQg"
      }
    },
    {
      "cell_type": "markdown",
      "source": [
        "## Code Cells"
      ],
      "metadata": {
        "id": "xZL6vI8QIBO8"
      }
    },
    {
      "cell_type": "code",
      "source": [
        "## this is a code cell\n",
        "## it contains Python code that can be run.\n",
        "## Code cells can include standard Python comments\n",
        "## and in general, you should take advantage of this\n",
        "## and comment your code\n",
        "\n",
        "## Code cells can also contain Python code that, when the cell is run\n",
        "## (press the button in the top left corner, or hit <Ctrl>+<Enter>)\n",
        "## will get executed.\n",
        "\n",
        "## here is some simple Python code\n",
        "\n",
        "a = 1\n",
        "print(\"Value of a:\", a)\n",
        "b = a+10\n",
        "print(\"b=\", b)\n",
        "\n",
        "a+b\n",
        "\n",
        "## Notice, if a cell ends with a Python expression, the result\n",
        "## of this expression is displayed when the code cell is run\n",
        "\n",
        "\n"
      ],
      "metadata": {
        "id": "l-tK6VXejiYl"
      },
      "execution_count": null,
      "outputs": []
    },
    {
      "cell_type": "code",
      "source": [
        "### however, only the value of the last expression will be rendered\n",
        "\n",
        "a\n",
        "b\n",
        "a+b\n"
      ],
      "metadata": {
        "id": "rQdj3flateWa"
      },
      "execution_count": null,
      "outputs": []
    },
    {
      "cell_type": "code",
      "source": [
        "### notice one other VERY IMPORTANT THING\n",
        "### the values of the variables defined in one code block\n",
        "### persist into the next\n",
        "\n",
        "print(a, b)"
      ],
      "metadata": {
        "id": "y_9r0Y6FtpI6"
      },
      "execution_count": null,
      "outputs": []
    },
    {
      "cell_type": "code",
      "source": [
        "print(a,b)"
      ],
      "metadata": {
        "id": "eTftzY6mtzJZ"
      },
      "execution_count": null,
      "outputs": []
    },
    {
      "cell_type": "markdown",
      "source": [
        "**Task 2.**  Create a code cell below that uses a variable `myname`, assigns it the string containing your first and last name, and then prints out the phrase\n",
        "\n",
        "> My name is [myname]\n",
        "\n",
        "(replace `[myname]` with the value you assigned to it)"
      ],
      "metadata": {
        "id": "J4b6tpNdt3BZ"
      }
    },
    {
      "cell_type": "markdown",
      "source": [
        "## Why use notebooks instead of scripts?\n",
        "\n",
        "### Advantage 1\n",
        "\n",
        "Notebooks integrate code, text, and output in a single document. Since data science is not only about writing code, but also about interpreting the results, it is useful to have everything in one place.\n",
        "\n",
        "\n",
        "Throughout the course, when working on your assignments, you will be **both** writing code in the code cells of the notebooks, **and** writing textual descriptions, explanations, and interpretations of your results in the text cells. This is standard practice in quite a lot of Data Science work.\n",
        "\n",
        "The artifacts generated this way - with text, code, and code output, allow data scientists to tell rich stories with data."
      ],
      "metadata": {
        "id": "WD46mZ0VXM7_"
      }
    },
    {
      "cell_type": "markdown",
      "source": [
        "**Task 3.** Take a look at the cell below. It contains a simple Python function (what does it do?) and tests.\n",
        "\n",
        "Run the cell first, observe the output. As discussed above, one of the calls to the function (we can call it _one of the test cases_) does not produce output.\n",
        "\n",
        "Create additional code cells below the cell that contains the definition of the `convert_celsius_to_fahrenheit` function, and move our test cases there. Make sure that the output of each function call can be displayed. You can add `print()` statements, in you want to.\n",
        "\n",
        "Add another code cell, and add another call to the `convert_celsius_to_fahrenheit` function - trying coming up with an unusual temperature value to convert."
      ],
      "metadata": {
        "id": "CKd3zK5jvJ6r"
      }
    },
    {
      "cell_type": "code",
      "source": [
        "### convert_celsius_to_fahrenheit()\n",
        "### intput parameter: temperature_in_celsius - numeric value representing temperature in degrees Celsius\n",
        "### returns: temperature in degrees Fahrenheit\n",
        "\n",
        "def convert_celsius_to_fahrenheit(temperature_in_celsius):\n",
        "  return 9 / 5 * temperature_in_celsius + 32\n",
        "\n",
        "# Intermediate lines of code are executed, but the output is not printed.\n",
        "convert_celsius_to_fahrenheit(0)\n",
        "\n",
        "# The output of the last line of code in a cell is printed.\n",
        "convert_celsius_to_fahrenheit(100)"
      ],
      "metadata": {
        "id": "zBnFWHBRVGoR"
      },
      "execution_count": null,
      "outputs": []
    },
    {
      "cell_type": "markdown",
      "source": [
        "**Task 4** (complete this task after the class)\n",
        "\n",
        "add two or more (as needed) code cells below. In the first code cell you add, define a function `f2c`, which does the **inverse** of what `convert_celsius_to_fahrenheit` computes.\n",
        "\n",
        "In the code cells after, create some test cases that\n",
        "\n",
        "1. run the `f2c` function on some inputs\n",
        "1. **chain** the function calls to `f2c` and `convert_celsius_to_fahrenheit`.\n",
        "\n",
        "1. What should be the effect of chaining these functions (i.e., calling one on the output produced by the other on _some_ input value)?  Can you observe this behavior. After your code cells, add a text cell describing what you have observed and discussing it.\n",
        "\n",
        "\n",
        "\n",
        "\n",
        "\n"
      ],
      "metadata": {
        "id": "5Pc8eJIOwq_L"
      }
    },
    {
      "cell_type": "markdown",
      "source": [
        "### Advantage 2\n",
        "\n",
        "Notebooks allow for a more interactive style of programming. You don't have to write your entire program before executing it!\n",
        "\n",
        "You can build up code gradually. You can do a computation in one cell and follow up in another cell.\n",
        "\n",
        "In the example below, the function `convert_celsius_to_fahrenheit` was defined when we ran the code cell above. The notebook maintains a \"memory\" of all the variables and functions that have been defined."
      ],
      "metadata": {
        "id": "POpqbYrZWzJT"
      }
    },
    {
      "cell_type": "code",
      "source": [
        "convert_celsius_to_fahrenheit(0)"
      ],
      "metadata": {
        "id": "hlDUqhi2Wx6T"
      },
      "execution_count": null,
      "outputs": []
    },
    {
      "cell_type": "markdown",
      "source": [
        "### A Caution about Notebooks\n",
        "\n",
        "The code cells in a notebook are usually designed to be run in order, from top to bottom. Bad things can happen if you run them out of order.\n",
        "\n",
        "Let's start from a clean state. Let's clear all the variables that we have defined. Go to Runtime > Restart runtime. What happens if you run the code cell below, without first running the cells above it?"
      ],
      "metadata": {
        "id": "gxMloq_yZCAY"
      }
    },
    {
      "cell_type": "code",
      "source": [
        "convert_celsius_to_fahrenheit(20)"
      ],
      "metadata": {
        "id": "krFrKZcUa2fc"
      },
      "execution_count": null,
      "outputs": []
    },
    {
      "cell_type": "markdown",
      "source": [
        "## Questions for Discussion\n",
        "\n",
        "1. What do you think the numbers (e.g., `[1]`, `[2]`, `[3]`, ...) on the left of the code cells indicate?\n",
        "2. Run the code cell below. Why doesn't the cell output anything? How would you modify the code so that it outputs the temperature in Fahrenheit?"
      ],
      "metadata": {
        "id": "MLBvfXbWdsxk"
      }
    },
    {
      "cell_type": "code",
      "source": [
        "temperature_in_fahrenheit = convert_celsius_to_fahrenheit(30)"
      ],
      "metadata": {
        "id": "VE3PtZe-Y15-"
      },
      "execution_count": null,
      "outputs": []
    },
    {
      "cell_type": "markdown",
      "source": [],
      "metadata": {
        "id": "ZQDe2wNhbFHn"
      }
    },
    {
      "cell_type": "markdown",
      "source": [
        "# A Python Exercise\n",
        "\n",
        "We expect you to have a basic familiarity with Python syntax and data structures. For example, you should know how to write `for` loops and work with lists and dicts.\n",
        "\n",
        "Here is an exercise that should help you review your Python skills. The code below reads in data about Nobel laureates from the Internet into a Python dict called `nobel_laureates`. (You are not expected to understand this code.)"
      ],
      "metadata": {
        "id": "bkUlY144k-6U"
      }
    },
    {
      "cell_type": "code",
      "source": [
        "import requests\n",
        "response = requests.get(\"https://api.nobelprize.org/v1/laureate.json\")\n",
        "nobel_laureates = response.json()"
      ],
      "metadata": {
        "id": "ZnZDryZZk-ya"
      },
      "execution_count": null,
      "outputs": []
    },
    {
      "cell_type": "markdown",
      "source": [
        "**Task 5.** Here is your task: write a loop over the dict `nobel_laureates` to count the number of Nobel laureates that were affiliated with Stanford at the time of their prize.\n",
        "\n",
        "If you want to see what this dict looks like, you can either:\n",
        "\n",
        "1. open the URL in your browser, or\n",
        "2. type `nobel_laureates` as the last line of a cell and run the cell."
      ],
      "metadata": {
        "id": "uU4B6N47qgvW"
      }
    },
    {
      "cell_type": "code",
      "source": [
        "# YOUR CODE HERE\n",
        "\n"
      ],
      "metadata": {
        "id": "Hwm7zgUUqK2W"
      },
      "execution_count": null,
      "outputs": []
    },
    {
      "cell_type": "markdown",
      "source": [
        "## (Optional) Running Notebooks on Your Own Computer\n",
        "\n",
        "In this class, all of the notebooks will be hosted on Colab, so you do not have to install anything on your own machine.\n",
        "\n",
        "But if you want to run notebooks locally (on your own machine), you should:\n",
        "\n",
        "1. Install [Anaconda](https://www.anaconda.com/download).\n",
        "2. Open Anaconda Navigator and launch either JupyterLab or Notebook."
      ],
      "metadata": {
        "id": "EwHHs3Pe8YTP"
      }
    },
    {
      "cell_type": "markdown",
      "source": [
        "# Submission Instructions\n",
        "\n",
        "\n",
        "- Restart this notebook and run the cells from beginning to end.\n",
        "  - Go to Runtime > Restart Session and Run All."
      ],
      "metadata": {
        "id": "781p-2X4Fj-8"
      }
    },
    {
      "cell_type": "code",
      "source": [
        "# @markdown Run this cell to download this notebook as a webpage, `_NOTEBOOK.html`.\n",
        "\n",
        "import google, json, nbformat\n",
        "\n",
        "# Get the current notebook and write it to _NOTEBOOK.ipynb\n",
        "raw_notebook = google.colab._message.blocking_request(\"get_ipynb\",\n",
        "                                                      timeout_sec=30)[\"ipynb\"]\n",
        "with open(\"_NOTEBOOK.ipynb\", \"w\", encoding=\"utf-8\") as ipynb_file:\n",
        "  ipynb_file.write(json.dumps(raw_notebook))\n",
        "\n",
        "# Use nbconvert to convert .ipynb to .html.\n",
        "!jupyter nbconvert --to html --log-level WARN _NOTEBOOK.ipynb\n",
        "\n",
        "# Download the .html file.\n",
        "google.colab.files.download(\"_NOTEBOOK.html\")"
      ],
      "metadata": {
        "id": "pyem2dSOGCJm",
        "cellView": "form"
      },
      "execution_count": null,
      "outputs": []
    },
    {
      "cell_type": "markdown",
      "source": [
        "- Open `_NOTEBOOK.html` in your browser, and save it as a PDF.\n",
        "    - Go to File > Print > Save as PDF.\n",
        "- Double check that all of your code and output is visible in the saved PDF.\n",
        "- Upload the PDF to Gradescope.\n",
        "    - Please be sure to select the correct pages corresponding to each question."
      ],
      "metadata": {
        "id": "6i3LEqdCGP-E"
      }
    }
  ]
}