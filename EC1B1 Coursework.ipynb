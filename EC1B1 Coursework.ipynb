{
 "cells": [
  {
   "cell_type": "markdown",
   "id": "57986e91",
   "metadata": {},
   "source": [
    "## Importing Relevant Libraries"
   ]
  },
  {
   "cell_type": "code",
   "execution_count": null,
   "id": "d1ef33dd",
   "metadata": {},
   "outputs": [],
   "source": [
    "import pandas as pd\n",
    "import numpy as np\n",
    "import os\n",
    "from IPython.display import display\n",
    "import matplotlib.pyplot as plt\n"
   ]
  },
  {
   "cell_type": "markdown",
   "id": "da6a88f8",
   "metadata": {},
   "source": [
    "### Cleaning and formatting data"
   ]
  },
  {
   "cell_type": "code",
   "execution_count": null,
   "id": "d79972df",
   "metadata": {},
   "outputs": [],
   "source": [
    "#Importing the data\n",
    "filename = \"https://github.com/Nayrbnat/EC1B1-Coursework/raw/main/International_Financial_Statistics.xlsx\"\n",
    "df = pd.read_excel(filename, na_filter = False,header=0)\n",
    "\n",
    "#Cleaning the data\n",
    "df = df.transpose()\n",
    "df.columns = df.iloc[1]\n",
    "df = df.rename_axis('Date')\n",
    "df = df[df.index.str.match(r'^[A-Z][a-z]{2} \\d{4}$')]\n",
    "df = df.iloc[0:, 0:].apply(pd.to_numeric) #Changing the data to numeric datatype\n",
    "\n",
    "#Separating germany and USA data from the dataframes\n",
    "df_germany = df.iloc[:,0:4]\n",
    "df_usa = df.iloc[:,4:8]\n",
    "\n",
    "#Changing the index to date time format\n",
    "df_germany.index = pd.to_datetime(df_germany.index, format='%b %Y')\n",
    "df_usa.index = pd.to_datetime(df_germany.index, format='%b %Y')"
   ]
  },
  {
   "cell_type": "markdown",
   "id": "9954cb1a",
   "metadata": {},
   "source": [
    "### Constructing Germany Dataframe"
   ]
  },
  {
   "cell_type": "code",
   "execution_count": null,
   "id": "1f24af02",
   "metadata": {},
   "outputs": [],
   "source": [
    "#Inserting new column for monthly growth in nominal exchange rate\n",
    "\n",
    "df_germany.insert(loc=2, column='Nominal_Monthly_Growth_Exchange_Rate', value = df_germany['Exchange Rates, US Dollar per Domestic Currency, Period Average, Rate'].pct_change() * 100)\n",
    "\n",
    "#Inserting new column for real exchange rate\n",
    "#Real Exchange rate = Nominal Exchange Rate in marks/dollars * germany price level / US price level\n",
    "germany_real_exchange_rate = df_germany['Exchange Rates, US Dollar per Domestic Currency, Period Average, Rate'] * df_germany['Prices, Consumer Price Index, All items, Index'] /df_usa['Prices, Consumer Price Index, All items, Index']\n",
    "df_germany.insert(loc=5, column='Real_Monthly_Exchange_Rate', value = germany_real_exchange_rate)\n",
    "\n",
    "#Inserting new column for monthly growth in real exchange rate\n",
    "df_germany.insert(loc=6, column='Real_Monthly_Growth_Exchange_Rate', value =df_germany['Real_Monthly_Exchange_Rate'].pct_change() * 100)\n",
    "\n",
    "#Inserting new column for The monthly growth in industrial production\n",
    "df_germany.insert(loc=1, column='Monthly_Growth_Industrial_Production', value = df_germany['Economic Activity, Industrial Production, Index'].pct_change() * 100)\n",
    "\n",
    "#Inserting new column for The growth in industrial production versus 12 months ago\n",
    "df_germany.insert(loc=1, column='Yearly_Growth_Industrial_Production', value = df_germany['Economic Activity, Industrial Production, Index'].pct_change(12) * 100)\n",
    "\n",
    "#Setting an index of the value of national reserves\n",
    "df_germany.insert(loc=7, column='Index_National_Reserves', value = (df_germany['International Reserves and Liquidity, Reserves, Official Reserve Assets, US Dollar'] / df_germany['International Reserves and Liquidity, Reserves, Official Reserve Assets, US Dollar'].iloc[0] * 100).fillna(100))\n",
    "\n",
    "#wewe #Inserting a new column for the monthly inflation rate\n",
    "df_germany.insert(loc=6, column ='Monthly_Inflation_Rate', value = df_germany['Prices, Consumer Price Index, All items, Index'].pct_change() * 100)"
   ]
  },
  {
   "cell_type": "markdown",
   "id": "bf73f4cb",
   "metadata": {},
   "source": [
    "### Real Exchange Rate Calculation\n",
    "\n",
    "$$ RER_{Germany} = NER_{Germany} * \\frac{CPI_{Germany}}{CPI_{USA}} $$\n",
    "\n",
    "where RER = Real Exchange Rate; NER = Nominal Exchange Rate"
   ]
  },
  {
   "cell_type": "markdown",
   "id": "2d6b0d45",
   "metadata": {},
   "source": [
    "### Indexing National Reserves\n",
    "\n",
    "$$ Base Month: Jan 1960 = 100 $$\n",
    "  "
   ]
  },
  {
   "cell_type": "markdown",
   "id": "274a1786",
   "metadata": {},
   "source": [
    "$$  National\\,Reserves\\,index_{n} = \\frac{National\\,Reserve\\,Value_{n}}{National\\,Reserve\\,Value_{Jan 1960}} * 100 $$"
   ]
  },
  {
   "cell_type": "markdown",
   "id": "4d3e3b62",
   "metadata": {},
   "source": [
    "### Constructing USA Dataframe"
   ]
  },
  {
   "cell_type": "code",
   "execution_count": null,
   "id": "93523cf5",
   "metadata": {},
   "outputs": [],
   "source": [
    "#Inserting new column for the monthly inflation rate\n",
    "df_usa.insert(loc=4, column='Monthly_Inflation_Rate', value = df_usa[\"Prices, Consumer Price Index, All items, Index\"].pct_change() * 100)\n",
    "\n",
    "#Setting an index of the value of national reserves\n",
    "df_usa.insert(loc=3, column='Index_National_Reserves', value = (df_usa['International Reserves and Liquidity, Reserves, Official Reserve Assets, US Dollar'] / df_usa['International Reserves and Liquidity, Reserves, Official Reserve Assets, US Dollar'].iloc[0] * 100).fillna(100))"
   ]
  },
  {
   "cell_type": "code",
   "execution_count": null,
   "id": "8485657f",
   "metadata": {},
   "outputs": [],
   "source": [
    "#Lets view the germany data frame\n",
    "df_germany\n"
   ]
  },
  {
   "cell_type": "code",
   "execution_count": null,
   "id": "9245b220",
   "metadata": {},
   "outputs": [],
   "source": [
    "#Lets view the usa data frame\n",
    "df_usa\n"
   ]
  },
  {
   "cell_type": "markdown",
   "id": "53238f2d",
   "metadata": {},
   "source": [
    "## Identifying Outliers"
   ]
  },
  {
   "cell_type": "code",
   "execution_count": null,
   "id": "a24d4d7e",
   "metadata": {},
   "outputs": [],
   "source": [
    "#The code below attempts to remove the outliers and set the values as NA\n",
    "def get_outliers_lists(df):\n",
    "    outliers_df = pd.DataFrame()\n",
    "    for column in df.select_dtypes(include=[np.number]).columns:\n",
    "        Q1 = df[column].quantile(0.25)\n",
    "        Q3 = df[column].quantile(0.75)\n",
    "        IQR = Q3 - Q1\n",
    "        lower_bound = Q1 - 1.5 * IQR\n",
    "        upper_bound = Q3 + 1.5 * IQR\n",
    "        \n",
    "        outlier_values = df[(df[column] < lower_bound) | (df[column] > upper_bound)][column].tolist()\n",
    "        \n",
    "        if outlier_values:  # Check if there are any outliers\n",
    "            outlier_values_df = pd.DataFrame({'Outlier_Value': outlier_values, 'Outlier_Column': column})\n",
    "            outlier_values_df.index = df.index[df[column].isin(outlier_values)]\n",
    "            outliers_df = pd.concat([outliers_df, outlier_values_df])\n",
    "    \n",
    "    return outliers_df"
   ]
  },
  {
   "cell_type": "markdown",
   "id": "cfda9523",
   "metadata": {},
   "source": [
    "**Explaining the function**\n",
    "\n",
    "$$IQR = Interquartile\\,range$$\n",
    "\n",
    "Our criteria for an outlier is adopted from the Tukey's fences method. This refers to data points that lie 1.5 * IQR below the first quartile (Q1) or above the third quartile (Q3).\n",
    "\n",
    "This function goes through data from columns which are of the numerical datatype and classifies them based on the criteria above and adds them to a list named outlier_values.\n",
    "\n",
    "The IF function then ascertains if there are any outliers and subsequently adds them to a dataframe with the index being the data"
   ]
  },
  {
   "cell_type": "code",
   "execution_count": null,
   "id": "d97f71ad",
   "metadata": {},
   "outputs": [],
   "source": [
    "def replace_outliers_with_na(df, outliers_df):\n",
    "    modified_df = df.copy()  # Create a copy of the original DataFrame to modify\n",
    "    \n",
    "    for index, row in outliers_df.iterrows():\n",
    "        modified_df.loc[index, row['Outlier_Column']] = np.nan\n",
    "    return modified_df"
   ]
  },
  {
   "cell_type": "markdown",
   "id": "eb550a8e",
   "metadata": {},
   "source": [
    "**Explaining the function**\n",
    "\n",
    "This function takes 2 arguments: the dataframe we want to augment and the list of outliers. We structured our code in this format because it allows us to change the outlier dataframe if needed. Some of the outliers might not be \"true\" outliers, hence some discretion is available.\n",
    "\n",
    "This function iterates through every row and sets any outliers as NA"
   ]
  },
  {
   "cell_type": "code",
   "execution_count": null,
   "id": "c3fb5873",
   "metadata": {},
   "outputs": [],
   "source": [
    "#Creating a df of outliers for germany\n",
    "germany_outliers = get_outliers_lists(df_germany)\n",
    "germany_outliers"
   ]
  },
  {
   "cell_type": "code",
   "execution_count": null,
   "id": "2bd8af1d",
   "metadata": {},
   "outputs": [],
   "source": [
    "#Creating a df of outliers for USA\n",
    "usa_outliers = get_outliers_lists(df_usa)\n",
    "usa_outliers"
   ]
  },
  {
   "cell_type": "markdown",
   "id": "387d4f7c",
   "metadata": {},
   "source": [
    "Although there might be outliers in the data. It would be asinine to simply set these values as NA without understanding the circumstances behind them. Hence, we decided to extract the values into a dataframe and analyse them. Based on this we realised that the period of outliers was from XX to YY\n",
    "We conclude that this was due to ZZ.\n",
    "Hence we decided to remove the data as this was a result of {insert supply shock,etc here}"
   ]
  },
  {
   "cell_type": "code",
   "execution_count": null,
   "id": "6034a0b4",
   "metadata": {},
   "outputs": [],
   "source": [
    "#Creating a separate dataframe setting extreme values as NA for germany\n",
    "df_modified_germany = replace_outliers_with_na(df_germany,germany_outliers)\n",
    "df_modified_germany"
   ]
  },
  {
   "cell_type": "code",
   "execution_count": null,
   "id": "49b5e959",
   "metadata": {},
   "outputs": [],
   "source": [
    "#Creating a separate dataframe setting extreme values as NA for USA\n",
    "df_modified_usa = replace_outliers_with_na(df_usa, usa_outliers)\n",
    "df_modified_usa"
   ]
  },
  {
   "cell_type": "markdown",
   "id": "df8beb95",
   "metadata": {},
   "source": [
    "## Interpolating Missing Data"
   ]
  },
  {
   "cell_type": "code",
   "execution_count": null,
   "id": "9a748a17",
   "metadata": {},
   "outputs": [],
   "source": [
    "#Creating function to interpolate data\n",
    "\n",
    "def interpolate_missing_data(df):\n",
    "    interpolated_df = df.copy()\n",
    "    \n",
    "    for column in interpolated_df.select_dtypes(include=[np.number]).columns:\n",
    "        if interpolated_df[column].isnull().any():\n",
    "            interpolated_df[column] = interpolated_df[column].interpolate(method='linear', limit_direction='both')\n",
    "    \n",
    "    return interpolated_df"
   ]
  },
  {
   "cell_type": "markdown",
   "id": "646c4cbf",
   "metadata": {},
   "source": [
    "**Explaining Interpolating Function**\n",
    "\n",
    "This function basically creates a copy of the dataframe we input and then iterates through each column (which are numerical). It then interpolates the data with the interpolate() function, using specific arguments given in order to calculate the average values based on the next and previous data points."
   ]
  },
  {
   "cell_type": "code",
   "execution_count": null,
   "id": "06638a8d",
   "metadata": {},
   "outputs": [],
   "source": [
    "#Interpolating missing data for germany\n",
    "interpolate_missing_data(df_modified_germany)"
   ]
  },
  {
   "cell_type": "code",
   "execution_count": null,
   "id": "6dff119f",
   "metadata": {},
   "outputs": [],
   "source": [
    "#Interpolating missing data for usa\n",
    "interpolate_missing_data(df_modified_usa)"
   ]
  },
  {
   "cell_type": "code",
   "execution_count": null,
   "id": "39911ef6",
   "metadata": {},
   "outputs": [],
   "source": []
  },
  {
   "cell_type": "markdown",
   "id": "3119e563",
   "metadata": {},
   "source": [
    "# Analysis"
   ]
  },
  {
   "cell_type": "markdown",
   "id": "92f053a2",
   "metadata": {},
   "source": [
    "## 5.3.1 Exchange Rate and International Reserve Graphs"
   ]
  },
  {
   "cell_type": "code",
   "execution_count": null,
   "id": "ac8167d7",
   "metadata": {},
   "outputs": [],
   "source": [
    "# Plot a time series graph of the monthly growth in nominal exchange rates of your country, versus the US dollar.\n",
    "df_edited_germany = interpolate_missing_data(df_modified_germany)\n",
    "df_edited_usa = interpolate_missing_data(df_modified_usa)\n",
    "\n",
    "plt.figure(figsize=(35, 12))  \n",
    "plt.plot(df_edited_germany.index, df_edited_germany['Nominal_Monthly_Growth_Exchange_Rate'], marker='', linestyle='-', color='b', linewidth=3)\n",
    "\n",
    "\n",
    "plt.title('Nominal Monthly Growth Exchange Rate', size=(30))\n",
    "plt.xlabel('Date', size=(30))\n",
    "plt.ylabel('Nominal Exchange Rate Growth', size=(30))\n",
    "plt.grid(True)\n",
    "plt.xticks(size=(20))  \n",
    "plt.yticks(size=(20))\n",
    "\n",
    "plt.axvline(x=1100, color='red', linestyle='dashed', linewidth=5)\n",
    "plt.show()\n",
    "\n"
   ]
  },
  {
   "cell_type": "code",
   "execution_count": null,
   "id": "8ce4272e",
   "metadata": {},
   "outputs": [],
   "source": [
    "# Plot a time series graph of the monthly growth in real exchange rates of your country, versus the US dollar.\n",
    "df_edited_germany = interpolate_missing_data(df_modified_germany)\n",
    "\n",
    "plt.figure(figsize=(35, 12))  \n",
    "plt.plot(df_edited_germany.index, df_edited_germany['Real_Monthly_Growth_Exchange_Rate'], marker='', linestyle='-', color='b', linewidth=3)\n",
    "\n",
    "\n",
    "plt.title('Real Monthly Growth Exchange Rate', size=(30))\n",
    "plt.xlabel('Date', size=(30))\n",
    "plt.ylabel('Real Exchange Rate Growth', size=(30))\n",
    "plt.grid(True)\n",
    "plt.xticks(size=(20))  \n",
    "plt.yticks(size=(20))\n",
    "\n",
    "plt.axvline(x=1100, color='red', linestyle='dashed', linewidth=5)\n",
    "\n",
    "plt.show()"
   ]
  },
  {
   "cell_type": "code",
   "execution_count": null,
   "id": "e60a0671",
   "metadata": {},
   "outputs": [],
   "source": [
    "#Plot a time series graph of the real exchange rate level of your country, versus the US dollar.\n",
    "\n",
    "plt.figure(figsize=(35, 12))\n",
    "plt.plot(df_edited_germany.index, df_edited_germany['Real_Monthly_Exchange_Rate'], marker='', linestyle='-', color='b', linewidth=3)\n",
    "\n",
    "\n",
    "\n",
    "plt.title('Real Monthly Exchange Rate', size=(30))\n",
    "plt.xlabel('Date', size=(30))\n",
    "plt.ylabel('Exchange Rate', size=(30))\n",
    "plt.grid(True)\n",
    "plt.xticks(size=(20))  \n",
    "plt.yticks(size=(20))\n",
    "\n",
    "plt.axvline(x=1100, color='red', linestyle='dashed', linewidth=5)\n",
    "\n",
    "plt.show()"
   ]
  },
  {
   "cell_type": "markdown",
   "id": "ec20f2bf",
   "metadata": {},
   "source": [
    "### Question: Why is it useful to plot both real and nominal exchange rate growth?\n",
    "**1. Inflationary Effects**\n",
    "Plotting both nominal and real exchange rates help us to identify if nominal changes reflect actual changes in the value of currencies or simply inflation differences between countries.\n",
    "\n",
    "**2. Analyzing Competitiveness**\n",
    "For example, a rising real exchange rate can indicate a loss in export competitiveness, as imported goods become cheaper, and exported goods become relatively expensive in the global market.\n",
    "\n",
    "**3. Identifying Underlying Factors**\n",
    "Deviations between real and nominal exchange rate movements can suggest other factors at play beyond just exchange rate adjustments.\n",
    "For example, a rise in nominal exchange rate coupled with a decrease in real exchange rate might indicate increased productivity or efficiency in the domestic economy. As such, plotting both rates allows for a more nuanced understanding of the factors influencing exchange rate dynamics.\n",
    "\n",
    "### Question: Was the US dollar over or undervalued in the Bretton Woods system? Refer to data or figures in your answer.\n",
    "The US dollar was seen to be overvalued in the Bretton Wood system. The uptrend in the plotted graph of Germany's real exchange rate level (compared to US) shows an appreciation of Germany's currency during the period under the Bretton Woods. As such, the US dollar was losing value relative to foreign currencies like Germany."
   ]
  },
  {
   "cell_type": "code",
   "execution_count": null,
   "id": "e65ca900",
   "metadata": {},
   "outputs": [],
   "source": [
    "# Plot a time series graph of the monthly indexed value of international reserves of your country \n",
    "# and the US from January 1960 until the exit of the US from Bretton Woods.\n",
    "\n",
    "plt.figure(figsize=(35, 12))\n",
    "\n",
    "# Plot until the exit of the US from Bretton Woods (1971)\n",
    "limit_year = 1971\n",
    "df_germany_filtered = df_edited_germany[df_edited_germany.index.year < limit_year]\n",
    "df_usa_filtered = df_edited_usa[df_edited_usa.index.year < limit_year]\n",
    "\n",
    "plt.plot(df_germany_filtered.index, df_germany_filtered['Index_National_Reserves'], marker='', linestyle='-', color='b',linewidth=3)\n",
    "plt.plot(df_usa_filtered.index, df_usa_filtered['Index_National_Reserves'], marker='', linestyle='-', color='g', linewidth=3)\n",
    "\n",
    "plt.title('Monthly Index National Reserves', size=(30))\n",
    "plt.xlabel('Date', size=(30))\n",
    "plt.ylabel('National Reserves', size=(30))\n",
    "plt.grid(True)\n",
    "plt.xticks(size=(20))  \n",
    "plt.yticks(size=(20))\n",
    "\n",
    "plt.show()"
   ]
  },
  {
   "cell_type": "markdown",
   "id": "fd8dad66",
   "metadata": {},
   "source": [
    "### Question: Using your above figures, explain one reason for the US’s departure from the Bretton Woods system.\n",
    "\n",
    "As countries accumulated trade surpluses with the US, they exchanged their excess dollars for gold, as the dollar was pegged to gold under the Bretton Woods system. **This continuous drain on US gold reserves** made it increasingly difficult for the US to maintain the convertibility of dollars to gold at the fixed rate, as evidenced by the fall in national reserves over time, thus prompting the US's departure from the Bretton Woods system."
   ]
  },
  {
   "cell_type": "markdown",
   "id": "02e02f65",
   "metadata": {},
   "source": [
    "## 5.3.2 Inflation and Industrial Production Graphs"
   ]
  },
  {
   "cell_type": "code",
   "execution_count": null,
   "id": "42c70fe1",
   "metadata": {},
   "outputs": [],
   "source": [
    "df_final_usa = interpolate_missing_data(df_modified_usa)\n",
    "\n",
    "plt.figure(figsize=(35, 12))  \n",
    "plt.plot(df_final_usa.index, df_final_usa['Monthly_Inflation_Rate'], marker='', linestyle='-', color='b', linewidth=3)\n",
    "plt.title('Monthly Inflation', size=(40))\n",
    "plt.xlabel('Date', size=(35))\n",
    "plt.ylabel('Inflation Rate', size=(35))\n",
    "plt.grid(True)\n",
    "plt.xticks(size=(30)) \n",
    "plt.yticks(size=(30)) \n",
    "plt.tight_layout()  \n",
    "\n",
    "plt.show()"
   ]
  },
  {
   "cell_type": "code",
   "execution_count": null,
   "id": "e977c601",
   "metadata": {},
   "outputs": [],
   "source": [
    "df_final_germany = interpolate_missing_data(df_modified_germany)\n",
    "\n",
    "plt.figure(figsize=(35, 12))  \n",
    "plt.plot(df_final_germany.index, df_final_germany['Monthly_Growth_Industrial_Production'], marker='', linestyle='-', color='b', linewidth=3)\n",
    "plt.title('Monthly Growth in Industrial Production', size=(40))\n",
    "plt.xlabel('Date', size=(40))\n",
    "plt.ylabel('Monthly Industrial Production', size=(35))\n",
    "plt.grid(True)\n",
    "plt.xticks(size=(30))\n",
    "plt.yticks(size=(30))\n",
    "plt.tight_layout()  \n",
    "\n",
    "plt.show()"
   ]
  },
  {
   "cell_type": "code",
   "execution_count": null,
   "id": "7c599e11",
   "metadata": {},
   "outputs": [],
   "source": [
    "plt.figure(figsize=(35, 12))  \n",
    "plt.plot(df_final_germany.index, df_final_germany['Yearly_Growth_Industrial_Production'], marker='', linestyle='-', color='b', linewidth=3)\n",
    "plt.title('Yearly Growth in Industrial Production', size=(40))\n",
    "plt.xlabel('Date', size=(40))\n",
    "plt.ylabel('Yearly Industrial Production', size=(35))\n",
    "plt.grid(True)\n",
    "plt.xticks(size=(30))\n",
    "plt.yticks(size=(30))  \n",
    "plt.tight_layout()  \n",
    "\n",
    "plt.show()"
   ]
  },
  {
   "cell_type": "markdown",
   "id": "b5070bd1",
   "metadata": {},
   "source": [
    "The difference can be attributed to a several factors: \n",
    "\n",
    "1. **Seasonal Variations:** Monthly data are subject to significant seasonal variations, whereas 12-monthly growth rate helps smooth out these seasonal effects. \n",
    "2. **Different Time Horizon:** Monthly data is more volatile, reflecting short-term fluctuations in economic activity. The 12-monthly growth rate provides a clearer picture of the underlying long-term trend, as it averages out these short-term volatilities coupled with mean reversion.\n",
    "3. **Time Lags:** Impact of economical policies or exogenous shocks might not be fully visible in the monthly data but can become more apparent when looking at year-on-year changes. This longer term view better captures the cumulative effects of such events. \n",
    "\n",
    "The usefulness of both datasets depends on the specific needs of the analysis: \n",
    "1. **Responding to immediate economic conditions:** Monthly data allows policymakers to make decisions based on the most current information available.\n",
    "2. **Appreciation of Longer Term Trends:** The 12-monthly growth dataset will be more informative in unravelling the underlying momentum in economic movements, which are less affected by short-term volatility and sesonality."
   ]
  },
  {
   "cell_type": "markdown",
   "id": "1a4b5f3d",
   "metadata": {},
   "source": [
    "# 5.3.3 Comparison Statistics"
   ]
  },
  {
   "cell_type": "code",
   "execution_count": null,
   "id": "76a669fd",
   "metadata": {},
   "outputs": [],
   "source": [
    "# Define the periods\n",
    "periods = ['Before Bretton Woods', 'After Bretton Woods']\n",
    "dates_germany = df_edited_germany.index.get_level_values(0)\n",
    "dates_usa = df_edited_usa.index.get_level_values(0)\n",
    "\n",
    "# Initialize an empty dictionary to store the results\n",
    "std_dict = {}\n",
    "\n",
    "# Iterate over the periods\n",
    "for period in periods:\n",
    "    # Filter the data for that particular period\n",
    "    if period == 'Before Bretton Woods':\n",
    "        df_period = df_edited_germany.loc[dates_germany <= '1971-07-01']\n",
    "        dates_period = dates_usa[dates_usa <= '1971-07-01']\n",
    "    else:\n",
    "        df_period = df_edited_germany.loc[dates_germany >= '1973-01-01']\n",
    "        dates_period = dates_usa[dates_usa >= '1973-01-01']\n",
    "    \n",
    "    # Calculate the standard deviations for the period\n",
    "    std_nominal_monthly_growth_exchange_rate = df_period['Nominal_Monthly_Growth_Exchange_Rate'].std()\n",
    "    std_real_monthly_growth_exchange_rate = df_period['Real_Monthly_Growth_Exchange_Rate'].std()\n",
    "    std_inflation = df_period['Monthly_Inflation_Rate'].std()\n",
    "    std_industrial_production = df_period['Yearly_Growth_Industrial_Production'].std()\n",
    "    std_inflation_difference = (df_period['Monthly_Inflation_Rate'] - df_edited_usa.loc[dates_period]['Monthly_Inflation_Rate']).std()\n",
    "    \n",
    "    # Store the results in the dictionary\n",
    "    std_dict[period] = [std_nominal_monthly_growth_exchange_rate, std_real_monthly_growth_exchange_rate, std_inflation, std_industrial_production, std_inflation_difference]\n",
    "\n",
    "# Create a DataFrame from the dictionary\n",
    "std_df = pd.DataFrame(std_dict, index=['Nominal Monthly Growth Exchange Rate', 'Real Monthly Growth Exchange Rate', 'Monthly Inflation Rate', 'Yearly Growth Industrial Production', 'Inflation Difference'])\n",
    "\n",
    "# Calculate the ratio of standard deviations\n",
    "std_df['Ratio'] = std_df['After Bretton Woods'] / std_df['Before Bretton Woods']\n",
    "\n",
    "# Add an index title \"Variable\"\n",
    "std_df.index.name = 'Variable'\n",
    "# Display the DataFrame\n",
    "std_df\n",
    "# Changed the background color of the whole DataFrame to blue and the border colour to yellow, make the border thicker and the font colour to white for better visibility\n",
    "std_df.style.set_table_styles([{'selector': '','props': [('background-color', 'blue'),('color', 'white')]}])\n"
   ]
  },
  {
   "cell_type": "code",
   "execution_count": null,
   "id": "3238a79b",
   "metadata": {},
   "outputs": [],
   "source": []
  }
 ],
 "metadata": {
  "kernelspec": {
   "display_name": "Python 3 (ipykernel)",
   "language": "python",
   "name": "python3"
  },
  "language_info": {
   "codemirror_mode": {
    "name": "ipython",
    "version": 3
   },
   "file_extension": ".py",
   "mimetype": "text/x-python",
   "name": "python",
   "nbconvert_exporter": "python",
   "pygments_lexer": "ipython3",
   "version": "3.11.4"
  }
 },
 "nbformat": 4,
 "nbformat_minor": 5
}
